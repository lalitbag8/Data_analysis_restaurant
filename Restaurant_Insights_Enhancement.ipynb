{
 "cells": [
  {
   "cell_type": "markdown",
   "metadata": {
    "colab_type": "text",
    "id": "view-in-github"
   },
   "source": [
    "<a href=\"https://colab.research.google.com/github/Apaulgithub/Restaurant_Data_Analysis_and_Prediction/blob/main/Level%202/Restaurant_Insights_Enhancement_Level_2.ipynb\" target=\"_parent\"><img src=\"https://colab.research.google.com/assets/colab-badge.svg\" alt=\"Open In Colab\"/></a>"
   ]
  },
  {
   "cell_type": "markdown",
   "metadata": {
    "id": "FJNUwmbgGyua"
   },
   "source": [
    "# **Project Summary -**"
   ]
  },
  {
   "cell_type": "markdown",
   "metadata": {
    "id": "F6v_1wHtG2nS"
   },
   "source": [
    "In the second phase of my Data Science internship at Cognifyz Technologies, I embarked on a journey to enhance our understanding of the restaurant dataset through a series of focused tasks. This level 2 revolved around three key objectives:\n",
    "\n",
    "**Task 1: Table Booking and Online Delivery Analysis**\n",
    "\n",
    "- Calculated the percentage of restaurants offering table booking and online delivery services.\n",
    "- Conducted a comparative analysis of average ratings for restaurants with and without table booking.\n",
    "- Explored the availability of online delivery options across various price ranges, revealing valuable insights into customer preferences.\n",
    "\n",
    "**Task 2: Price Range Analysis**\n",
    "\n",
    "- Determined the most common price range among all restaurants.\n",
    "- Computed the average rating for each price range, helping identify high-performing price segments.\n",
    "- Identified the color associated with the highest average rating, simplifying the identification of top-rated price ranges.\n",
    "\n",
    "**Task 3: Feature Engineering**\n",
    "\n",
    "- Employed advanced feature engineering techniques to extract additional insights from existing columns.\n",
    "- Generated new features like \"Has Table Booking\" and \"Has Online Delivery\" by encoding categorical variables, enhancing the dataset's intelligence.\n",
    "\n",
    "This level of the project aimed to elevate our analysis by uncovering essential details related to table booking, delivery services, pricing, and feature engineering. The insights gained will contribute significantly to our data-driven decision-making process and project success."
   ]
  },
  {
   "cell_type": "markdown",
   "metadata": {
    "id": "PqB7TMVXKZFY"
   },
   "source": [
    "## ***Task 1: Table Booking and Online Delivery***"
   ]
  },
  {
   "cell_type": "markdown",
   "metadata": {
    "id": "Y3lxredqlCYt"
   },
   "source": [
    "### Import Libraries"
   ]
  },
  {
   "cell_type": "code",
   "execution_count": 1,
   "metadata": {
    "id": "M8Vqi-pPk-HR"
   },
   "outputs": [],
   "source": [
    "\n",
    "import pandas as pd\n",
    "import numpy as np\n",
    "\n",
    "import matplotlib.pyplot as plt\n",
    "%matplotlib inline\n",
    "import seaborn as sns\n",
    "\n",
    "import warnings\n",
    "warnings.filterwarnings('ignore')"
   ]
  },
  {
   "cell_type": "markdown",
   "metadata": {
    "id": "3RnN4peoiCZX"
   },
   "source": [
    "### Dataset Loading"
   ]
  },
  {
   "cell_type": "code",
   "execution_count": 2,
   "metadata": {
    "id": "4CkvbW_SlZ_R"
   },
   "outputs": [],
   "source": [
    "# Load Dataset from github repository\n",
    "df = pd.read_csv(\"C:\\\\Users\\\\bagal\\\\Downloads\\\\Dataset.csv\")"
   ]
  },
  {
   "cell_type": "markdown",
   "metadata": {
    "id": "x71ZqKXriCWQ"
   },
   "source": [
    "### Percentage of Table Booking and Online Delivery"
   ]
  },
  {
   "cell_type": "code",
   "execution_count": 3,
   "metadata": {
    "colab": {
     "base_uri": "https://localhost:8080/"
    },
    "id": "LWNFOSvLl09H",
    "outputId": "bb571136-7706-47d3-93db-886309741625"
   },
   "outputs": [
    {
     "name": "stdout",
     "output_type": "stream",
     "text": [
      "Percentage of restaurants offering Table Booking: 12.12%\n",
      "Percentage of restaurants offering Online Delivery: 25.66%\n"
     ]
    }
   ],
   "source": [
    "total_restaurants = len(df)\n",
    "\n",
    "table_booking_percentage = (df['Has Table booking'] == 'Yes').sum() / total_restaurants * 100\n",
    "online_delivery_percentage = (df['Has Online delivery'] == 'Yes').sum() / total_restaurants * 100\n",
    "\n",
    "# Display results\n",
    "print(f\"Percentage of restaurants offering Table Booking: {table_booking_percentage:.2f}%\")\n",
    "print(f\"Percentage of restaurants offering Online Delivery: {online_delivery_percentage:.2f}%\")"
   ]
  },
  {
   "cell_type": "markdown",
   "metadata": {
    "id": "PB2ezHahIMcd"
   },
   "source": [
    "### Restaurants with and without Table Booking"
   ]
  },
  {
   "cell_type": "code",
   "execution_count": 4,
   "metadata": {
    "colab": {
     "base_uri": "https://localhost:8080/"
    },
    "id": "xGUhYxGLIWIE",
    "outputId": "b978febc-7c8a-4b8c-f644-bf92841acd79"
   },
   "outputs": [
    {
     "name": "stdout",
     "output_type": "stream",
     "text": [
      "Average rating with Table Booking: 3.44\n",
      "Average rating without Table Booking: 2.56\n"
     ]
    }
   ],
   "source": [
    "\n",
    "avg_rating_with_table = df[df['Has Table booking'] == 'Yes']['Aggregate rating'].mean()\n",
    "avg_rating_without_table = df[df['Has Table booking'] == 'No']['Aggregate rating'].mean()\n",
    "\n",
    "\n",
    "print(f\"Average rating with Table Booking: {avg_rating_with_table:.2f}\")\n",
    "print(f\"Average rating without Table Booking: {avg_rating_without_table:.2f}\")"
   ]
  },
  {
   "cell_type": "markdown",
   "metadata": {
    "id": "TnamBHQrIpT-"
   },
   "source": [
    "### Availability of Online Delivery"
   ]
  },
  {
   "cell_type": "code",
   "execution_count": 5,
   "metadata": {
    "colab": {
     "base_uri": "https://localhost:8080/"
    },
    "id": "GGzxARzxKcUG",
    "outputId": "4b9fa552-475e-423e-dd50-117e7edd564e"
   },
   "outputs": [
    {
     "name": "stdout",
     "output_type": "stream",
     "text": [
      "Online Delivery Availability by Price Range:\n",
      "Has Online delivery         No       Yes\n",
      "Average Cost for two                    \n",
      "High                  0.719149  0.280851\n",
      "Low                   0.858523  0.141477\n",
      "Medium                0.566209  0.433791\n"
     ]
    }
   ],
   "source": [
    "\n",
    "price_ranges = df['Average Cost for two'].apply(lambda x: 'Low' if x < 500 else 'Medium' if 500 <= x <= 1000 else 'High')\n",
    "online_delivery_by_price_range = df.groupby(price_ranges)['Has Online delivery'].value_counts(normalize=True).unstack()\n",
    "\n",
    "print(\"Online Delivery Availability by Price Range:\")\n",
    "print(online_delivery_by_price_range)"
   ]
  },
  {
   "cell_type": "markdown",
   "metadata": {
    "id": "H0kj-8xxnORC"
   },
   "source": [
    "### What did i found from the level 2 (task 1)?"
   ]
  },
  {
   "cell_type": "markdown",
   "metadata": {
    "id": "gfoNAAC-nUe_"
   },
   "source": [
    "* Percentage of restaurants offering Table Booking 12.12% and Online Delivery 25.66%\n",
    "* Average rating with Table Booking 3.44 and without Table Booking: 2.56\n",
    "* Online delivery availability for medium price range food product is better compare to high and low price range food product"
   ]
  },
  {
   "cell_type": "markdown",
   "metadata": {
    "id": "fKuRVsPD5Kle"
   },
   "source": [
    "## ***Task 2: Price Range Analysis***"
   ]
  },
  {
   "cell_type": "markdown",
   "metadata": {
    "id": "jWFToxB_5KmJ"
   },
   "source": [
    "### Most Common Price Range"
   ]
  },
  {
   "cell_type": "code",
   "execution_count": 6,
   "metadata": {
    "colab": {
     "base_uri": "https://localhost:8080/"
    },
    "id": "7gcLpEr65KmJ",
    "outputId": "f57d8688-03c2-4c2d-b2a9-ab3293022016"
   },
   "outputs": [
    {
     "name": "stdout",
     "output_type": "stream",
     "text": [
      "Most Common Price Range: 1\n"
     ]
    }
   ],
   "source": [
    "\n",
    "most_common_price_range = df['Price range'].mode()[0]\n",
    "print(f\"Most Common Price Range: {most_common_price_range}\")"
   ]
  },
  {
   "cell_type": "markdown",
   "metadata": {
    "id": "ERuvCRyR7xhM"
   },
   "source": [
    "### Average Rating for Each Price Range"
   ]
  },
  {
   "cell_type": "code",
   "execution_count": 7,
   "metadata": {
    "colab": {
     "base_uri": "https://localhost:8080/"
    },
    "id": "HerH2AI17w6p",
    "outputId": "ce277462-42bb-432b-ccd4-fe0f3172ca6c"
   },
   "outputs": [
    {
     "name": "stdout",
     "output_type": "stream",
     "text": [
      "Average rating for each price range:\n",
      "Price range\n",
      "1    2.000\n",
      "2    2.941\n",
      "3    3.683\n",
      "4    3.818\n",
      "Name: Aggregate rating, dtype: float64\n"
     ]
    }
   ],
   "source": [
    "\n",
    "avg_rating_by_price_range = df.groupby('Price range')['Aggregate rating'].mean()\n",
    "print(\"Average rating for each price range:\")\n",
    "print(round(avg_rating_by_price_range,3))"
   ]
  },
  {
   "cell_type": "markdown",
   "metadata": {
    "id": "ynv2q4c78oyQ"
   },
   "source": [
    "### Highest Average Rating Among Different Price Ranges"
   ]
  },
  {
   "cell_type": "code",
   "execution_count": 8,
   "metadata": {
    "colab": {
     "base_uri": "https://localhost:8080/",
     "height": 472
    },
    "id": "67i94KkiBMWg",
    "outputId": "6eac1ad4-a602-4016-afac-f5df35902424"
   },
   "outputs": [
    {
     "data": {
      "image/png": "[encoded data removed]",
      "text/plain": [
       "<Figure size 640x480 with 1 Axes>"
      ]
     },
     "metadata": {},
     "output_type": "display_data"
    }
   ],
   "source": [
    "highest_avg_rating_color = avg_rating_by_price_range.idxmax()\n",
    "plt.bar(avg_rating_by_price_range.index, avg_rating_by_price_range, color='yellow')\n",
    "plt.bar(highest_avg_rating_color, avg_rating_by_price_range[highest_avg_rating_color], color='red')\n",
    "plt.xlabel('Price Range')\n",
    "plt.ylabel('Average Rating')\n",
    "plt.title('Average Rating by Price Range')\n",
    "plt.show()"
   ]
  },
  {
   "cell_type": "markdown",
   "metadata": {
    "id": "IX4IV_Fw5KmR"
   },
   "source": [
    "### What did i found from the level 2 (task 2)?"
   ]
  },
  {
   "cell_type": "markdown",
   "metadata": {
    "id": "-xeZcwpY5KmT"
   },
   "source": [
    "* Most common price range among all the restaurants is 1\n",
    "* Price range 4 get the highest average rating, which is 3.818. Followed by price range 3, 2 and 1"
   ]
  },
  {
   "cell_type": "markdown",
   "metadata": {
    "id": "TE87QPxvkcns"
   },
   "source": [
    "## ***Task 3: Feature Engineering***"
   ]
  },
  {
   "cell_type": "markdown",
   "metadata": {
    "id": "kD2t82HLkcn6"
   },
   "source": [
    "### Extract Additional Features"
   ]
  },
  {
   "cell_type": "code",
   "execution_count": 25,
   "metadata": {
    "colab": {
     "base_uri": "https://localhost:8080/",
     "height": 811
    },
    "id": "diUtWmjokcn7",
    "outputId": "01cbcf8e-9b6d-4cf0-8aaf-c69e070d8078"
   },
   "outputs": [
    {
     "data": {
      "text/html": [
       "\n",
       "  <div id=\"df-2cd5b9b2-d918-4361-80ca-d41b2cfc0312\" class=\"colab-df-container\">\n",
       "    <div>\n",
       "<style scoped>\n",
       "    .dataframe tbody tr th:only-of-type {\n",
       "        vertical-align: middle;\n",
       "    }\n",
       "\n",
       "    .dataframe tbody tr th {\n",
       "        vertical-align: top;\n",
       "    }\n",
       "\n",
       "    .dataframe thead th {\n",
       "        text-align: right;\n",
       "    }\n",
       "</style>\n",
       "<table border=\"1\" class=\"dataframe\">\n",
       "  <thead>\n",
       "    <tr style=\"text-align: right;\">\n",
       "      <th></th>\n",
       "      <th>Restaurant ID</th>\n",
       "      <th>Restaurant Name</th>\n",
       "      <th>Country Code</th>\n",
       "      <th>City</th>\n",
       "      <th>Address</th>\n",
       "      <th>Locality</th>\n",
       "      <th>Locality Verbose</th>\n",
       "      <th>Longitude</th>\n",
       "      <th>Latitude</th>\n",
       "      <th>Cuisines</th>\n",
       "      <th>...</th>\n",
       "      <th>Has Online delivery</th>\n",
       "      <th>Is delivering now</th>\n",
       "      <th>Switch to order menu</th>\n",
       "      <th>Price range</th>\n",
       "      <th>Aggregate rating</th>\n",
       "      <th>Rating color</th>\n",
       "      <th>Rating text</th>\n",
       "      <th>Votes</th>\n",
       "      <th>Restaurant Name Length</th>\n",
       "      <th>Address Length</th>\n",
       "    </tr>\n",
       "  </thead>\n",
       "  <tbody>\n",
       "    <tr>\n",
       "      <th>0</th>\n",
       "      <td>6317637</td>\n",
       "      <td>Le Petit Souffle</td>\n",
       "      <td>162</td>\n",
       "      <td>Makati City</td>\n",
       "      <td>Third Floor, Century City Mall, Kalayaan Avenu...</td>\n",
       "      <td>Century City Mall, Poblacion, Makati City</td>\n",
       "      <td>Century City Mall, Poblacion, Makati City, Mak...</td>\n",
       "      <td>121.027535</td>\n",
       "      <td>14.565443</td>\n",
       "      <td>French, Japanese, Desserts</td>\n",
       "      <td>...</td>\n",
       "      <td>No</td>\n",
       "      <td>No</td>\n",
       "      <td>No</td>\n",
       "      <td>3</td>\n",
       "      <td>4.8</td>\n",
       "      <td>Dark Green</td>\n",
       "      <td>Excellent</td>\n",
       "      <td>314</td>\n",
       "      <td>16</td>\n",
       "      <td>71</td>\n",
       "    </tr>\n",
       "    <tr>\n",
       "      <th>1</th>\n",
       "      <td>6304287</td>\n",
       "      <td>Izakaya Kikufuji</td>\n",
       "      <td>162</td>\n",
       "      <td>Makati City</td>\n",
       "      <td>Little Tokyo, 2277 Chino Roces Avenue, Legaspi...</td>\n",
       "      <td>Little Tokyo, Legaspi Village, Makati City</td>\n",
       "      <td>Little Tokyo, Legaspi Village, Makati City, Ma...</td>\n",
       "      <td>121.014101</td>\n",
       "      <td>14.553708</td>\n",
       "      <td>Japanese</td>\n",
       "      <td>...</td>\n",
       "      <td>No</td>\n",
       "      <td>No</td>\n",
       "      <td>No</td>\n",
       "      <td>3</td>\n",
       "      <td>4.5</td>\n",
       "      <td>Dark Green</td>\n",
       "      <td>Excellent</td>\n",
       "      <td>591</td>\n",
       "      <td>16</td>\n",
       "      <td>67</td>\n",
       "    </tr>\n",
       "    <tr>\n",
       "      <th>2</th>\n",
       "      <td>6300002</td>\n",
       "      <td>Heat - Edsa Shangri-La</td>\n",
       "      <td>162</td>\n",
       "      <td>Mandaluyong City</td>\n",
       "      <td>Edsa Shangri-La, 1 Garden Way, Ortigas, Mandal...</td>\n",
       "      <td>Edsa Shangri-La, Ortigas, Mandaluyong City</td>\n",
       "      <td>Edsa Shangri-La, Ortigas, Mandaluyong City, Ma...</td>\n",
       "      <td>121.056831</td>\n",
       "      <td>14.581404</td>\n",
       "      <td>Seafood, Asian, Filipino, Indian</td>\n",
       "      <td>...</td>\n",
       "      <td>No</td>\n",
       "      <td>No</td>\n",
       "      <td>No</td>\n",
       "      <td>4</td>\n",
       "      <td>4.4</td>\n",
       "      <td>Green</td>\n",
       "      <td>Very Good</td>\n",
       "      <td>270</td>\n",
       "      <td>22</td>\n",
       "      <td>56</td>\n",
       "    </tr>\n",
       "    <tr>\n",
       "      <th>3</th>\n",
       "      <td>6318506</td>\n",
       "      <td>Ooma</td>\n",
       "      <td>162</td>\n",
       "      <td>Mandaluyong City</td>\n",
       "      <td>Third Floor, Mega Fashion Hall, SM Megamall, O...</td>\n",
       "      <td>SM Megamall, Ortigas, Mandaluyong City</td>\n",
       "      <td>SM Megamall, Ortigas, Mandaluyong City, Mandal...</td>\n",
       "      <td>121.056475</td>\n",
       "      <td>14.585318</td>\n",
       "      <td>Japanese, Sushi</td>\n",
       "      <td>...</td>\n",
       "      <td>No</td>\n",
       "      <td>No</td>\n",
       "      <td>No</td>\n",
       "      <td>4</td>\n",
       "      <td>4.9</td>\n",
       "      <td>Dark Green</td>\n",
       "      <td>Excellent</td>\n",
       "      <td>365</td>\n",
       "      <td>4</td>\n",
       "      <td>70</td>\n",
       "    </tr>\n",
       "    <tr>\n",
       "      <th>4</th>\n",
       "      <td>6314302</td>\n",
       "      <td>Sambo Kojin</td>\n",
       "      <td>162</td>\n",
       "      <td>Mandaluyong City</td>\n",
       "      <td>Third Floor, Mega Atrium, SM Megamall, Ortigas...</td>\n",
       "      <td>SM Megamall, Ortigas, Mandaluyong City</td>\n",
       "      <td>SM Megamall, Ortigas, Mandaluyong City, Mandal...</td>\n",
       "      <td>121.057508</td>\n",
       "      <td>14.584450</td>\n",
       "      <td>Japanese, Korean</td>\n",
       "      <td>...</td>\n",
       "      <td>No</td>\n",
       "      <td>No</td>\n",
       "      <td>No</td>\n",
       "      <td>4</td>\n",
       "      <td>4.8</td>\n",
       "      <td>Dark Green</td>\n",
       "      <td>Excellent</td>\n",
       "      <td>229</td>\n",
       "      <td>11</td>\n",
       "      <td>64</td>\n",
       "    </tr>\n",
       "  </tbody>\n",
       "</table>\n",
       "<p>5 rows × 23 columns</p>\n",
       "</div>\n",
       "    <div class=\"colab-df-buttons\">\n",
       "\n",
       "  <div class=\"colab-df-container\">\n",
       "    <button class=\"colab-df-convert\" onclick=\"convertToInteractive('df-2cd5b9b2-d918-4361-80ca-d41b2cfc0312')\"\n",
       "            title=\"Convert this dataframe to an interactive table.\"\n",
       "            style=\"display:none;\">\n",
       "\n",
       "  <svg xmlns=\"http://www.w3.org/2000/svg\" height=\"24px\" viewBox=\"0 -960 960 960\">\n",
       "    <path d=\"M120-120v-720h720v720H120Zm60-500h600v-160H180v160Zm220 220h160v-160H400v160Zm0 220h160v-160H400v160ZM180-400h160v-160H180v160Zm440 0h160v-160H620v160ZM180-180h160v-160H180v160Zm440 0h160v-160H620v160Z\"/>\n",
       "  </svg>\n",
       "    </button>\n",
       "\n",
       "  <style>\n",
       "    .colab-df-container {\n",
       "      display:flex;\n",
       "      gap: 12px;\n",
       "    }\n",
       "\n",
       "    .colab-df-convert {\n",
       "      background-color: #E8F0FE;\n",
       "      border: none;\n",
       "      border-radius: 50%;\n",
       "      cursor: pointer;\n",
       "      display: none;\n",
       "      fill: #1967D2;\n",
       "      height: 32px;\n",
       "      padding: 0 0 0 0;\n",
       "      width: 32px;\n",
       "    }\n",
       "\n",
       "    .colab-df-convert:hover {\n",
       "      background-color: #E2EBFA;\n",
       "      box-shadow: 0px 1px 2px rgba(60, 64, 67, 0.3), 0px 1px 3px 1px rgba(60, 64, 67, 0.15);\n",
       "      fill: #174EA6;\n",
       "    }\n",
       "\n",
       "    .colab-df-buttons div {\n",
       "      margin-bottom: 4px;\n",
       "    }\n",
       "\n",
       "    [theme=dark] .colab-df-convert {\n",
       "      background-color: #3B4455;\n",
       "      fill: #D2E3FC;\n",
       "    }\n",
       "\n",
       "    [theme=dark] .colab-df-convert:hover {\n",
       "      background-color: #434B5C;\n",
       "      box-shadow: 0px 1px 3px 1px rgba(0, 0, 0, 0.15);\n",
       "      filter: drop-shadow(0px 1px 2px rgba(0, 0, 0, 0.3));\n",
       "      fill: #FFFFFF;\n",
       "    }\n",
       "  </style>\n",
       "\n",
       "    <script>\n",
       "      const buttonEl =\n",
       "        document.querySelector('#df-2cd5b9b2-d918-4361-80ca-d41b2cfc0312 button.colab-df-convert');\n",
       "      buttonEl.style.display =\n",
       "        google.colab.kernel.accessAllowed ? 'block' : 'none';\n",
       "\n",
       "      async function convertToInteractive(key) {\n",
       "        const element = document.querySelector('#df-2cd5b9b2-d918-4361-80ca-d41b2cfc0312');\n",
       "        const dataTable =\n",
       "          await google.colab.kernel.invokeFunction('convertToInteractive',\n",
       "                                                    [key], {});\n",
       "        if (!dataTable) return;\n",
       "\n",
       "        const docLinkHtml = 'Like what you see? Visit the ' +\n",
       "          '<a target=\"_blank\" href=https://colab.research.google.com/notebooks/data_table.ipynb>data table notebook</a>'\n",
       "          + ' to learn more about interactive tables.';\n",
       "        element.innerHTML = '';\n",
       "        dataTable['output_type'] = 'display_data';\n",
       "        await google.colab.output.renderOutput(dataTable, element);\n",
       "        const docLink = document.createElement('div');\n",
       "        docLink.innerHTML = docLinkHtml;\n",
       "        element.appendChild(docLink);\n",
       "      }\n",
       "    </script>\n",
       "  </div>\n",
       "\n",
       "\n",
       "<div id=\"df-9a00f860-5712-41bd-942a-911ed3ae1e0d\">\n",
       "  <button class=\"colab-df-quickchart\" onclick=\"quickchart('df-9a00f860-5712-41bd-942a-911ed3ae1e0d')\"\n",
       "            title=\"Suggest charts.\"\n",
       "            style=\"display:none;\">\n",
       "\n",
       "<svg xmlns=\"http://www.w3.org/2000/svg\" height=\"24px\"viewBox=\"0 0 24 24\"\n",
       "     width=\"24px\">\n",
       "    <g>\n",
       "        <path d=\"M19 3H5c-1.1 0-2 .9-2 2v14c0 1.1.9 2 2 2h14c1.1 0 2-.9 2-2V5c0-1.1-.9-2-2-2zM9 17H7v-7h2v7zm4 0h-2V7h2v10zm4 0h-2v-4h2v4z\"/>\n",
       "    </g>\n",
       "</svg>\n",
       "  </button>\n",
       "\n",
       "<style>\n",
       "  .colab-df-quickchart {\n",
       "      --bg-color: #E8F0FE;\n",
       "      --fill-color: #1967D2;\n",
       "      --hover-bg-color: #E2EBFA;\n",
       "      --hover-fill-color: #174EA6;\n",
       "      --disabled-fill-color: #AAA;\n",
       "      --disabled-bg-color: #DDD;\n",
       "  }\n",
       "\n",
       "  [theme=dark] .colab-df-quickchart {\n",
       "      --bg-color: #3B4455;\n",
       "      --fill-color: #D2E3FC;\n",
       "      --hover-bg-color: #434B5C;\n",
       "      --hover-fill-color: #FFFFFF;\n",
       "      --disabled-bg-color: #3B4455;\n",
       "      --disabled-fill-color: #666;\n",
       "  }\n",
       "\n",
       "  .colab-df-quickchart {\n",
       "    background-color: var(--bg-color);\n",
       "    border: none;\n",
       "    border-radius: 50%;\n",
       "    cursor: pointer;\n",
       "    display: none;\n",
       "    fill: var(--fill-color);\n",
       "    height: 32px;\n",
       "    padding: 0;\n",
       "    width: 32px;\n",
       "  }\n",
       "\n",
       "  .colab-df-quickchart:hover {\n",
       "    background-color: var(--hover-bg-color);\n",
       "    box-shadow: 0 1px 2px rgba(60, 64, 67, 0.3), 0 1px 3px 1px rgba(60, 64, 67, 0.15);\n",
       "    fill: var(--button-hover-fill-color);\n",
       "  }\n",
       "\n",
       "  .colab-df-quickchart-complete:disabled,\n",
       "  .colab-df-quickchart-complete:disabled:hover {\n",
       "    background-color: var(--disabled-bg-color);\n",
       "    fill: var(--disabled-fill-color);\n",
       "    box-shadow: none;\n",
       "  }\n",
       "\n",
       "  .colab-df-spinner {\n",
       "    border: 2px solid var(--fill-color);\n",
       "    border-color: transparent;\n",
       "    border-bottom-color: var(--fill-color);\n",
       "    animation:\n",
       "      spin 1s steps(1) infinite;\n",
       "  }\n",
       "\n",
       "  @keyframes spin {\n",
       "    0% {\n",
       "      border-color: transparent;\n",
       "      border-bottom-color: var(--fill-color);\n",
       "      border-left-color: var(--fill-color);\n",
       "    }\n",
       "    20% {\n",
       "      border-color: transparent;\n",
       "      border-left-color: var(--fill-color);\n",
       "      border-top-color: var(--fill-color);\n",
       "    }\n",
       "    30% {\n",
       "      border-color: transparent;\n",
       "      border-left-color: var(--fill-color);\n",
       "      border-top-color: var(--fill-color);\n",
       "      border-right-color: var(--fill-color);\n",
       "    }\n",
       "    40% {\n",
       "      border-color: transparent;\n",
       "      border-right-color: var(--fill-color);\n",
       "      border-top-color: var(--fill-color);\n",
       "    }\n",
       "    60% {\n",
       "      border-color: transparent;\n",
       "      border-right-color: var(--fill-color);\n",
       "    }\n",
       "    80% {\n",
       "      border-color: transparent;\n",
       "      border-right-color: var(--fill-color);\n",
       "      border-bottom-color: var(--fill-color);\n",
       "    }\n",
       "    90% {\n",
       "      border-color: transparent;\n",
       "      border-bottom-color: var(--fill-color);\n",
       "    }\n",
       "  }\n",
       "</style>\n",
       "\n",
       "  <script>\n",
       "    async function quickchart(key) {\n",
       "      const quickchartButtonEl =\n",
       "        document.querySelector('#' + key + ' button');\n",
       "      quickchartButtonEl.disabled = true;  // To prevent multiple clicks.\n",
       "      quickchartButtonEl.classList.add('colab-df-spinner');\n",
       "      try {\n",
       "        const charts = await google.colab.kernel.invokeFunction(\n",
       "            'suggestCharts', [key], {});\n",
       "      } catch (error) {\n",
       "        console.error('Error during call to suggestCharts:', error);\n",
       "      }\n",
       "      quickchartButtonEl.classList.remove('colab-df-spinner');\n",
       "      quickchartButtonEl.classList.add('colab-df-quickchart-complete');\n",
       "    }\n",
       "    (() => {\n",
       "      let quickchartButtonEl =\n",
       "        document.querySelector('#df-9a00f860-5712-41bd-942a-911ed3ae1e0d button');\n",
       "      quickchartButtonEl.style.display =\n",
       "        google.colab.kernel.accessAllowed ? 'block' : 'none';\n",
       "    })();\n",
       "  </script>\n",
       "</div>\n",
       "    </div>\n",
       "  </div>\n"
      ],
      "text/plain": [
       "   Restaurant ID         Restaurant Name  Country Code              City  \\\n",
       "0        6317637        Le Petit Souffle           162       Makati City   \n",
       "1        6304287        Izakaya Kikufuji           162       Makati City   \n",
       "2        6300002  Heat - Edsa Shangri-La           162  Mandaluyong City   \n",
       "3        6318506                    Ooma           162  Mandaluyong City   \n",
       "4        6314302             Sambo Kojin           162  Mandaluyong City   \n",
       "\n",
       "                                             Address  \\\n",
       "0  Third Floor, Century City Mall, Kalayaan Avenu...   \n",
       "1  Little Tokyo, 2277 Chino Roces Avenue, Legaspi...   \n",
       "2  Edsa Shangri-La, 1 Garden Way, Ortigas, Mandal...   \n",
       "3  Third Floor, Mega Fashion Hall, SM Megamall, O...   \n",
       "4  Third Floor, Mega Atrium, SM Megamall, Ortigas...   \n",
       "\n",
       "                                     Locality  \\\n",
       "0   Century City Mall, Poblacion, Makati City   \n",
       "1  Little Tokyo, Legaspi Village, Makati City   \n",
       "2  Edsa Shangri-La, Ortigas, Mandaluyong City   \n",
       "3      SM Megamall, Ortigas, Mandaluyong City   \n",
       "4      SM Megamall, Ortigas, Mandaluyong City   \n",
       "\n",
       "                                    Locality Verbose   Longitude   Latitude  \\\n",
       "0  Century City Mall, Poblacion, Makati City, Mak...  121.027535  14.565443   \n",
       "1  Little Tokyo, Legaspi Village, Makati City, Ma...  121.014101  14.553708   \n",
       "2  Edsa Shangri-La, Ortigas, Mandaluyong City, Ma...  121.056831  14.581404   \n",
       "3  SM Megamall, Ortigas, Mandaluyong City, Mandal...  121.056475  14.585318   \n",
       "4  SM Megamall, Ortigas, Mandaluyong City, Mandal...  121.057508  14.584450   \n",
       "\n",
       "                           Cuisines  ...  Has Online delivery  \\\n",
       "0        French, Japanese, Desserts  ...                   No   \n",
       "1                          Japanese  ...                   No   \n",
       "2  Seafood, Asian, Filipino, Indian  ...                   No   \n",
       "3                   Japanese, Sushi  ...                   No   \n",
       "4                  Japanese, Korean  ...                   No   \n",
       "\n",
       "  Is delivering now Switch to order menu Price range Aggregate rating  \\\n",
       "0                No                   No           3              4.8   \n",
       "1                No                   No           3              4.5   \n",
       "2                No                   No           4              4.4   \n",
       "3                No                   No           4              4.9   \n",
       "4                No                   No           4              4.8   \n",
       "\n",
       "  Rating color  Rating text  Votes Restaurant Name Length Address Length  \n",
       "0   Dark Green    Excellent    314                     16             71  \n",
       "1   Dark Green    Excellent    591                     16             67  \n",
       "2        Green    Very Good    270                     22             56  \n",
       "3   Dark Green    Excellent    365                      4             70  \n",
       "4   Dark Green    Excellent    229                     11             64  \n",
       "\n",
       "[5 rows x 23 columns]"
      ]
     },
     "execution_count": 25,
     "metadata": {},
     "output_type": "execute_result"
    }
   ],
   "source": [
    "# Extracting additional features from the existing columns, such as the length of the restaurant name or address\n",
    "# Create a new column for the length of restaurant names\n",
    "df['Restaurant Name Length'] = df['Restaurant Name'].apply(len)\n",
    "\n",
    "# Create a new column for the length of restaurant addresses\n",
    "df['Address Length'] = df['Address'].apply(len)\n",
    "\n",
    "# Display the updated DataFrame\n",
    "df.head()"
   ]
  },
  {
   "cell_type": "markdown",
   "metadata": {
    "id": "_8F0MiyimZuO"
   },
   "source": [
    "### Create New Features"
   ]
  },
  {
   "cell_type": "code",
   "execution_count": 26,
   "metadata": {
    "colab": {
     "base_uri": "https://localhost:8080/",
     "height": 811
    },
    "id": "dwqPwMtMmerJ",
    "outputId": "79dff407-007c-449f-8624-68fd410c352e"
   },
   "outputs": [
    {
     "data": {
      "text/html": [
       "\n",
       "  <div id=\"df-48bc0bfd-5267-461b-9594-270175be0bce\" class=\"colab-df-container\">\n",
       "    <div>\n",
       "<style scoped>\n",
       "    .dataframe tbody tr th:only-of-type {\n",
       "        vertical-align: middle;\n",
       "    }\n",
       "\n",
       "    .dataframe tbody tr th {\n",
       "        vertical-align: top;\n",
       "    }\n",
       "\n",
       "    .dataframe thead th {\n",
       "        text-align: right;\n",
       "    }\n",
       "</style>\n",
       "<table border=\"1\" class=\"dataframe\">\n",
       "  <thead>\n",
       "    <tr style=\"text-align: right;\">\n",
       "      <th></th>\n",
       "      <th>Restaurant ID</th>\n",
       "      <th>Restaurant Name</th>\n",
       "      <th>Country Code</th>\n",
       "      <th>City</th>\n",
       "      <th>Address</th>\n",
       "      <th>Locality</th>\n",
       "      <th>Locality Verbose</th>\n",
       "      <th>Longitude</th>\n",
       "      <th>Latitude</th>\n",
       "      <th>Cuisines</th>\n",
       "      <th>...</th>\n",
       "      <th>Switch to order menu</th>\n",
       "      <th>Price range</th>\n",
       "      <th>Aggregate rating</th>\n",
       "      <th>Rating color</th>\n",
       "      <th>Rating text</th>\n",
       "      <th>Votes</th>\n",
       "      <th>Restaurant Name Length</th>\n",
       "      <th>Address Length</th>\n",
       "      <th>Has Table Booking</th>\n",
       "      <th>Has Online Delivery</th>\n",
       "    </tr>\n",
       "  </thead>\n",
       "  <tbody>\n",
       "    <tr>\n",
       "      <th>0</th>\n",
       "      <td>6317637</td>\n",
       "      <td>Le Petit Souffle</td>\n",
       "      <td>162</td>\n",
       "      <td>Makati City</td>\n",
       "      <td>Third Floor, Century City Mall, Kalayaan Avenu...</td>\n",
       "      <td>Century City Mall, Poblacion, Makati City</td>\n",
       "      <td>Century City Mall, Poblacion, Makati City, Mak...</td>\n",
       "      <td>121.027535</td>\n",
       "      <td>14.565443</td>\n",
       "      <td>French, Japanese, Desserts</td>\n",
       "      <td>...</td>\n",
       "      <td>No</td>\n",
       "      <td>3</td>\n",
       "      <td>4.8</td>\n",
       "      <td>Dark Green</td>\n",
       "      <td>Excellent</td>\n",
       "      <td>314</td>\n",
       "      <td>16</td>\n",
       "      <td>71</td>\n",
       "      <td>1</td>\n",
       "      <td>0</td>\n",
       "    </tr>\n",
       "    <tr>\n",
       "      <th>1</th>\n",
       "      <td>6304287</td>\n",
       "      <td>Izakaya Kikufuji</td>\n",
       "      <td>162</td>\n",
       "      <td>Makati City</td>\n",
       "      <td>Little Tokyo, 2277 Chino Roces Avenue, Legaspi...</td>\n",
       "      <td>Little Tokyo, Legaspi Village, Makati City</td>\n",
       "      <td>Little Tokyo, Legaspi Village, Makati City, Ma...</td>\n",
       "      <td>121.014101</td>\n",
       "      <td>14.553708</td>\n",
       "      <td>Japanese</td>\n",
       "      <td>...</td>\n",
       "      <td>No</td>\n",
       "      <td>3</td>\n",
       "      <td>4.5</td>\n",
       "      <td>Dark Green</td>\n",
       "      <td>Excellent</td>\n",
       "      <td>591</td>\n",
       "      <td>16</td>\n",
       "      <td>67</td>\n",
       "      <td>1</td>\n",
       "      <td>0</td>\n",
       "    </tr>\n",
       "    <tr>\n",
       "      <th>2</th>\n",
       "      <td>6300002</td>\n",
       "      <td>Heat - Edsa Shangri-La</td>\n",
       "      <td>162</td>\n",
       "      <td>Mandaluyong City</td>\n",
       "      <td>Edsa Shangri-La, 1 Garden Way, Ortigas, Mandal...</td>\n",
       "      <td>Edsa Shangri-La, Ortigas, Mandaluyong City</td>\n",
       "      <td>Edsa Shangri-La, Ortigas, Mandaluyong City, Ma...</td>\n",
       "      <td>121.056831</td>\n",
       "      <td>14.581404</td>\n",
       "      <td>Seafood, Asian, Filipino, Indian</td>\n",
       "      <td>...</td>\n",
       "      <td>No</td>\n",
       "      <td>4</td>\n",
       "      <td>4.4</td>\n",
       "      <td>Green</td>\n",
       "      <td>Very Good</td>\n",
       "      <td>270</td>\n",
       "      <td>22</td>\n",
       "      <td>56</td>\n",
       "      <td>1</td>\n",
       "      <td>0</td>\n",
       "    </tr>\n",
       "    <tr>\n",
       "      <th>3</th>\n",
       "      <td>6318506</td>\n",
       "      <td>Ooma</td>\n",
       "      <td>162</td>\n",
       "      <td>Mandaluyong City</td>\n",
       "      <td>Third Floor, Mega Fashion Hall, SM Megamall, O...</td>\n",
       "      <td>SM Megamall, Ortigas, Mandaluyong City</td>\n",
       "      <td>SM Megamall, Ortigas, Mandaluyong City, Mandal...</td>\n",
       "      <td>121.056475</td>\n",
       "      <td>14.585318</td>\n",
       "      <td>Japanese, Sushi</td>\n",
       "      <td>...</td>\n",
       "      <td>No</td>\n",
       "      <td>4</td>\n",
       "      <td>4.9</td>\n",
       "      <td>Dark Green</td>\n",
       "      <td>Excellent</td>\n",
       "      <td>365</td>\n",
       "      <td>4</td>\n",
       "      <td>70</td>\n",
       "      <td>0</td>\n",
       "      <td>0</td>\n",
       "    </tr>\n",
       "    <tr>\n",
       "      <th>4</th>\n",
       "      <td>6314302</td>\n",
       "      <td>Sambo Kojin</td>\n",
       "      <td>162</td>\n",
       "      <td>Mandaluyong City</td>\n",
       "      <td>Third Floor, Mega Atrium, SM Megamall, Ortigas...</td>\n",
       "      <td>SM Megamall, Ortigas, Mandaluyong City</td>\n",
       "      <td>SM Megamall, Ortigas, Mandaluyong City, Mandal...</td>\n",
       "      <td>121.057508</td>\n",
       "      <td>14.584450</td>\n",
       "      <td>Japanese, Korean</td>\n",
       "      <td>...</td>\n",
       "      <td>No</td>\n",
       "      <td>4</td>\n",
       "      <td>4.8</td>\n",
       "      <td>Dark Green</td>\n",
       "      <td>Excellent</td>\n",
       "      <td>229</td>\n",
       "      <td>11</td>\n",
       "      <td>64</td>\n",
       "      <td>1</td>\n",
       "      <td>0</td>\n",
       "    </tr>\n",
       "  </tbody>\n",
       "</table>\n",
       "<p>5 rows × 25 columns</p>\n",
       "</div>\n",
       "    <div class=\"colab-df-buttons\">\n",
       "\n",
       "  <div class=\"colab-df-container\">\n",
       "    <button class=\"colab-df-convert\" onclick=\"convertToInteractive('df-48bc0bfd-5267-461b-9594-270175be0bce')\"\n",
       "            title=\"Convert this dataframe to an interactive table.\"\n",
       "            style=\"display:none;\">\n",
       "\n",
       "  <svg xmlns=\"http://www.w3.org/2000/svg\" height=\"24px\" viewBox=\"0 -960 960 960\">\n",
       "    <path d=\"M120-120v-720h720v720H120Zm60-500h600v-160H180v160Zm220 220h160v-160H400v160Zm0 220h160v-160H400v160ZM180-400h160v-160H180v160Zm440 0h160v-160H620v160ZM180-180h160v-160H180v160Zm440 0h160v-160H620v160Z\"/>\n",
       "  </svg>\n",
       "    </button>\n",
       "\n",
       "  <style>\n",
       "    .colab-df-container {\n",
       "      display:flex;\n",
       "      gap: 12px;\n",
       "    }\n",
       "\n",
       "    .colab-df-convert {\n",
       "      background-color: #E8F0FE;\n",
       "      border: none;\n",
       "      border-radius: 50%;\n",
       "      cursor: pointer;\n",
       "      display: none;\n",
       "      fill: #1967D2;\n",
       "      height: 32px;\n",
       "      padding: 0 0 0 0;\n",
       "      width: 32px;\n",
       "    }\n",
       "\n",
       "    .colab-df-convert:hover {\n",
       "      background-color: #E2EBFA;\n",
       "      box-shadow: 0px 1px 2px rgba(60, 64, 67, 0.3), 0px 1px 3px 1px rgba(60, 64, 67, 0.15);\n",
       "      fill: #174EA6;\n",
       "    }\n",
       "\n",
       "    .colab-df-buttons div {\n",
       "      margin-bottom: 4px;\n",
       "    }\n",
       "\n",
       "    [theme=dark] .colab-df-convert {\n",
       "      background-color: #3B4455;\n",
       "      fill: #D2E3FC;\n",
       "    }\n",
       "\n",
       "    [theme=dark] .colab-df-convert:hover {\n",
       "      background-color: #434B5C;\n",
       "      box-shadow: 0px 1px 3px 1px rgba(0, 0, 0, 0.15);\n",
       "      filter: drop-shadow(0px 1px 2px rgba(0, 0, 0, 0.3));\n",
       "      fill: #FFFFFF;\n",
       "    }\n",
       "  </style>\n",
       "\n",
       "    <script>\n",
       "      const buttonEl =\n",
       "        document.querySelector('#df-48bc0bfd-5267-461b-9594-270175be0bce button.colab-df-convert');\n",
       "      buttonEl.style.display =\n",
       "        google.colab.kernel.accessAllowed ? 'block' : 'none';\n",
       "\n",
       "      async function convertToInteractive(key) {\n",
       "        const element = document.querySelector('#df-48bc0bfd-5267-461b-9594-270175be0bce');\n",
       "        const dataTable =\n",
       "          await google.colab.kernel.invokeFunction('convertToInteractive',\n",
       "                                                    [key], {});\n",
       "        if (!dataTable) return;\n",
       "\n",
       "        const docLinkHtml = 'Like what you see? Visit the ' +\n",
       "          '<a target=\"_blank\" href=https://colab.research.google.com/notebooks/data_table.ipynb>data table notebook</a>'\n",
       "          + ' to learn more about interactive tables.';\n",
       "        element.innerHTML = '';\n",
       "        dataTable['output_type'] = 'display_data';\n",
       "        await google.colab.output.renderOutput(dataTable, element);\n",
       "        const docLink = document.createElement('div');\n",
       "        docLink.innerHTML = docLinkHtml;\n",
       "        element.appendChild(docLink);\n",
       "      }\n",
       "    </script>\n",
       "  </div>\n",
       "\n",
       "\n",
       "<div id=\"df-6f84e396-e700-4789-83ca-ee9d4e0d0b2c\">\n",
       "  <button class=\"colab-df-quickchart\" onclick=\"quickchart('df-6f84e396-e700-4789-83ca-ee9d4e0d0b2c')\"\n",
       "            title=\"Suggest charts.\"\n",
       "            style=\"display:none;\">\n",
       "\n",
       "<svg xmlns=\"http://www.w3.org/2000/svg\" height=\"24px\"viewBox=\"0 0 24 24\"\n",
       "     width=\"24px\">\n",
       "    <g>\n",
       "        <path d=\"M19 3H5c-1.1 0-2 .9-2 2v14c0 1.1.9 2 2 2h14c1.1 0 2-.9 2-2V5c0-1.1-.9-2-2-2zM9 17H7v-7h2v7zm4 0h-2V7h2v10zm4 0h-2v-4h2v4z\"/>\n",
       "    </g>\n",
       "</svg>\n",
       "  </button>\n",
       "\n",
       "<style>\n",
       "  .colab-df-quickchart {\n",
       "      --bg-color: #E8F0FE;\n",
       "      --fill-color: #1967D2;\n",
       "      --hover-bg-color: #E2EBFA;\n",
       "      --hover-fill-color: #174EA6;\n",
       "      --disabled-fill-color: #AAA;\n",
       "      --disabled-bg-color: #DDD;\n",
       "  }\n",
       "\n",
       "  [theme=dark] .colab-df-quickchart {\n",
       "      --bg-color: #3B4455;\n",
       "      --fill-color: #D2E3FC;\n",
       "      --hover-bg-color: #434B5C;\n",
       "      --hover-fill-color: #FFFFFF;\n",
       "      --disabled-bg-color: #3B4455;\n",
       "      --disabled-fill-color: #666;\n",
       "  }\n",
       "\n",
       "  .colab-df-quickchart {\n",
       "    background-color: var(--bg-color);\n",
       "    border: none;\n",
       "    border-radius: 50%;\n",
       "    cursor: pointer;\n",
       "    display: none;\n",
       "    fill: var(--fill-color);\n",
       "    height: 32px;\n",
       "    padding: 0;\n",
       "    width: 32px;\n",
       "  }\n",
       "\n",
       "  .colab-df-quickchart:hover {\n",
       "    background-color: var(--hover-bg-color);\n",
       "    box-shadow: 0 1px 2px rgba(60, 64, 67, 0.3), 0 1px 3px 1px rgba(60, 64, 67, 0.15);\n",
       "    fill: var(--button-hover-fill-color);\n",
       "  }\n",
       "\n",
       "  .colab-df-quickchart-complete:disabled,\n",
       "  .colab-df-quickchart-complete:disabled:hover {\n",
       "    background-color: var(--disabled-bg-color);\n",
       "    fill: var(--disabled-fill-color);\n",
       "    box-shadow: none;\n",
       "  }\n",
       "\n",
       "  .colab-df-spinner {\n",
       "    border: 2px solid var(--fill-color);\n",
       "    border-color: transparent;\n",
       "    border-bottom-color: var(--fill-color);\n",
       "    animation:\n",
       "      spin 1s steps(1) infinite;\n",
       "  }\n",
       "\n",
       "  @keyframes spin {\n",
       "    0% {\n",
       "      border-color: transparent;\n",
       "      border-bottom-color: var(--fill-color);\n",
       "      border-left-color: var(--fill-color);\n",
       "    }\n",
       "    20% {\n",
       "      border-color: transparent;\n",
       "      border-left-color: var(--fill-color);\n",
       "      border-top-color: var(--fill-color);\n",
       "    }\n",
       "    30% {\n",
       "      border-color: transparent;\n",
       "      border-left-color: var(--fill-color);\n",
       "      border-top-color: var(--fill-color);\n",
       "      border-right-color: var(--fill-color);\n",
       "    }\n",
       "    40% {\n",
       "      border-color: transparent;\n",
       "      border-right-color: var(--fill-color);\n",
       "      border-top-color: var(--fill-color);\n",
       "    }\n",
       "    60% {\n",
       "      border-color: transparent;\n",
       "      border-right-color: var(--fill-color);\n",
       "    }\n",
       "    80% {\n",
       "      border-color: transparent;\n",
       "      border-right-color: var(--fill-color);\n",
       "      border-bottom-color: var(--fill-color);\n",
       "    }\n",
       "    90% {\n",
       "      border-color: transparent;\n",
       "      border-bottom-color: var(--fill-color);\n",
       "    }\n",
       "  }\n",
       "</style>\n",
       "\n",
       "  <script>\n",
       "    async function quickchart(key) {\n",
       "      const quickchartButtonEl =\n",
       "        document.querySelector('#' + key + ' button');\n",
       "      quickchartButtonEl.disabled = true;  // To prevent multiple clicks.\n",
       "      quickchartButtonEl.classList.add('colab-df-spinner');\n",
       "      try {\n",
       "        const charts = await google.colab.kernel.invokeFunction(\n",
       "            'suggestCharts', [key], {});\n",
       "      } catch (error) {\n",
       "        console.error('Error during call to suggestCharts:', error);\n",
       "      }\n",
       "      quickchartButtonEl.classList.remove('colab-df-spinner');\n",
       "      quickchartButtonEl.classList.add('colab-df-quickchart-complete');\n",
       "    }\n",
       "    (() => {\n",
       "      let quickchartButtonEl =\n",
       "        document.querySelector('#df-6f84e396-e700-4789-83ca-ee9d4e0d0b2c button');\n",
       "      quickchartButtonEl.style.display =\n",
       "        google.colab.kernel.accessAllowed ? 'block' : 'none';\n",
       "    })();\n",
       "  </script>\n",
       "</div>\n",
       "    </div>\n",
       "  </div>\n"
      ],
      "text/plain": [
       "   Restaurant ID         Restaurant Name  Country Code              City  \\\n",
       "0        6317637        Le Petit Souffle           162       Makati City   \n",
       "1        6304287        Izakaya Kikufuji           162       Makati City   \n",
       "2        6300002  Heat - Edsa Shangri-La           162  Mandaluyong City   \n",
       "3        6318506                    Ooma           162  Mandaluyong City   \n",
       "4        6314302             Sambo Kojin           162  Mandaluyong City   \n",
       "\n",
       "                                             Address  \\\n",
       "0  Third Floor, Century City Mall, Kalayaan Avenu...   \n",
       "1  Little Tokyo, 2277 Chino Roces Avenue, Legaspi...   \n",
       "2  Edsa Shangri-La, 1 Garden Way, Ortigas, Mandal...   \n",
       "3  Third Floor, Mega Fashion Hall, SM Megamall, O...   \n",
       "4  Third Floor, Mega Atrium, SM Megamall, Ortigas...   \n",
       "\n",
       "                                     Locality  \\\n",
       "0   Century City Mall, Poblacion, Makati City   \n",
       "1  Little Tokyo, Legaspi Village, Makati City   \n",
       "2  Edsa Shangri-La, Ortigas, Mandaluyong City   \n",
       "3      SM Megamall, Ortigas, Mandaluyong City   \n",
       "4      SM Megamall, Ortigas, Mandaluyong City   \n",
       "\n",
       "                                    Locality Verbose   Longitude   Latitude  \\\n",
       "0  Century City Mall, Poblacion, Makati City, Mak...  121.027535  14.565443   \n",
       "1  Little Tokyo, Legaspi Village, Makati City, Ma...  121.014101  14.553708   \n",
       "2  Edsa Shangri-La, Ortigas, Mandaluyong City, Ma...  121.056831  14.581404   \n",
       "3  SM Megamall, Ortigas, Mandaluyong City, Mandal...  121.056475  14.585318   \n",
       "4  SM Megamall, Ortigas, Mandaluyong City, Mandal...  121.057508  14.584450   \n",
       "\n",
       "                           Cuisines  ...  Switch to order menu Price range  \\\n",
       "0        French, Japanese, Desserts  ...                    No           3   \n",
       "1                          Japanese  ...                    No           3   \n",
       "2  Seafood, Asian, Filipino, Indian  ...                    No           4   \n",
       "3                   Japanese, Sushi  ...                    No           4   \n",
       "4                  Japanese, Korean  ...                    No           4   \n",
       "\n",
       "  Aggregate rating Rating color Rating text Votes  Restaurant Name Length  \\\n",
       "0              4.8   Dark Green   Excellent   314                      16   \n",
       "1              4.5   Dark Green   Excellent   591                      16   \n",
       "2              4.4        Green   Very Good   270                      22   \n",
       "3              4.9   Dark Green   Excellent   365                       4   \n",
       "4              4.8   Dark Green   Excellent   229                      11   \n",
       "\n",
       "   Address Length Has Table Booking Has Online Delivery  \n",
       "0              71                 1                   0  \n",
       "1              67                 1                   0  \n",
       "2              56                 1                   0  \n",
       "3              70                 0                   0  \n",
       "4              64                 1                   0  \n",
       "\n",
       "[5 rows x 25 columns]"
      ]
     },
     "execution_count": 26,
     "metadata": {},
     "output_type": "execute_result"
    }
   ],
   "source": [
    "# Creating new features like \"Has Table Booking\" or \"Has Online Delivery\" by encoding categorical variables\n",
    "# Create new binary columns\n",
    "df['Has Table Booking'] = np.where(df['Has Table booking'] == 'Yes', 1, 0)\n",
    "df['Has Online Delivery'] = np.where(df['Has Online delivery'] == 'Yes', 1, 0)\n",
    "\n",
    "# Drop the original categorical columns if needed\n",
    "# df = df.drop(['Has Table booking', 'Has Online delivery'], axis=1)\n",
    "\n",
    "# Display the updated DataFrame\n",
    "df.head()"
   ]
  },
  {
   "cell_type": "markdown",
   "metadata": {
    "id": "dCEiuLc8kcn-"
   },
   "source": [
    "### What did i found from the level 2 (task 3)?"
   ]
  },
  {
   "cell_type": "markdown",
   "metadata": {
    "id": "OKZF5Qtikcn-"
   },
   "source": [
    "* Two new columns added, 'Restaurant Name length' and 'Address Length' from the length of the restaurant name or address\n",
    "* Also two new binary column added by encoding categorical variables, 'Has Table booking' and 'Has Online delivery'"
   ]
  },
  {
   "cell_type": "markdown",
   "metadata": {
    "id": "lPUF3-ws3wok"
   },
   "source": [
    "# ***Conclusion***"
   ]
  },
  {
   "cell_type": "markdown",
   "metadata": {
    "id": "5zBE68Gj6LeU"
   },
   "source": [
    "The insights which i found from the overall level 2 project:\n",
    "\n",
    "**Table Booking and Online Delivery:**\n",
    "\n",
    "- Approximately 12.12% of restaurants offer table booking, while 25.66% provide online delivery services.\n",
    "- Restaurants with table booking have a significantly higher average rating of 3.44, compared to 2.56 for those without this service.\n",
    "- Online delivery is more prevalent in restaurants with medium-priced food products.\n",
    "\n",
    "**Price Range Analysis:**\n",
    "\n",
    "- The most common price range among restaurants is 1.\n",
    "- Restaurants in price range 4 achieve the highest average rating at 3.818, followed by price ranges 3, 2, and 1.\n",
    "\n",
    "**Feature Engineering:**\n",
    "\n",
    "- Introduced two new columns, 'Restaurant Name Length' and 'Address Length,' based on the length of restaurant names and addresses.\n",
    "- Additionally, i created two binary columns, 'Has Table Booking' and 'Has Online Delivery,' by encoding categorical variables.\n",
    "\n",
    "These findings provide valuable insights into the relationships between services, price ranges, and ratings in the restaurant dataset, enhancing our understanding of the industry."
   ]
  }
 ],
 "metadata": {
  "colab": {
   "authorship_tag": "ABX9TyM5we3ORo5mRDrcYI5HIRpt",
   "collapsed_sections": [
    "vncDsAP0Gaoa",
    "FJNUwmbgGyua",
    "w6K7xa23Elo4",
    "yQaldy8SH6Dl",
    "PG-Wmn_iKIOo",
    "PqB7TMVXKZFY",
    "Y3lxredqlCYt",
    "3RnN4peoiCZX",
    "x71ZqKXriCWQ",
    "PB2ezHahIMcd",
    "TnamBHQrIpT-",
    "H0kj-8xxnORC",
    "fKuRVsPD5Kle",
    "jWFToxB_5KmJ",
    "ERuvCRyR7xhM",
    "ynv2q4c78oyQ",
    "IX4IV_Fw5KmR",
    "TE87QPxvkcns",
    "kD2t82HLkcn6",
    "_8F0MiyimZuO",
    "dCEiuLc8kcn-",
    "lPUF3-ws3wok"
   ],
   "include_colab_link": true,
   "provenance": []
  },
  "kernelspec": {
   "display_name": "Python 3 (ipykernel)",
   "language": "python",
   "name": "python3"
  },
  "language_info": {
   "codemirror_mode": {
    "name": "ipython",
    "version": 3
   },
   "file_extension": ".py",
   "mimetype": "text/x-python",
   "name": "python",
   "nbconvert_exporter": "python",
   "pygments_lexer": "ipython3",
   "version": "3.11.3"
  }
 },
 "nbformat": 4,
 "nbformat_minor": 1
}
